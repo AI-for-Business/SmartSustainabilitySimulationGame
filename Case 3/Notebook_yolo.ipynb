{
 "cells": [
  {
   "cell_type": "markdown",
   "id": "612123e7-6ddb-4fcb-b25c-91ebe5312545",
   "metadata": {},
   "source": [
    "**1. Installation und Dependencies**"
   ]
  },
  {
   "cell_type": "code",
   "execution_count": null,
   "id": "ba84572a-b0ae-4e31-b5be-34ebe9d0e3f4",
   "metadata": {},
   "outputs": [],
   "source": [
    "!pip install torch torchvision torchaudio"
   ]
  },
  {
   "cell_type": "code",
   "execution_count": null,
   "id": "2d6ad400-9e2f-42e4-b900-b10520071b82",
   "metadata": {},
   "outputs": [],
   "source": [
    "!pip install ultralytics"
   ]
  },
  {
   "cell_type": "code",
   "execution_count": null,
   "id": "11f7ce52-fd07-4f06-b2f0-15354ba6f2f6",
   "metadata": {},
   "outputs": [],
   "source": [
    "import torch\n",
    "from matplotlib import pyplot as plt\n",
    "import numpy as np\n",
    "import cv2\n",
    "from ultralytics import YOLO"
   ]
  },
  {
   "cell_type": "markdown",
   "id": "c2f775c8-1b5c-4742-be1a-2a8066adad87",
   "metadata": {},
   "source": [
    "**2. Loading the model**"
   ]
  },
  {
   "cell_type": "code",
   "execution_count": null,
   "id": "d44e0dcf-90c8-4b03-ba99-2a3220598392",
   "metadata": {},
   "outputs": [],
   "source": [
    "model = YOLO(\"yolov8n.pt\")"
   ]
  },
  {
   "cell_type": "markdown",
   "id": "bb1a9be8-6110-45af-adb6-7f37a72e9c48",
   "metadata": {},
   "source": [
    "**3. Make detections**"
   ]
  },
  {
   "cell_type": "code",
   "execution_count": null,
   "id": "d7d593fe-d575-4e2b-8020-2235dac88364",
   "metadata": {},
   "outputs": [],
   "source": [
    "img = \"https://media.npr.org/assets/img/2010/08/23/trafficjam-695199b627097a111557672a2520e2b222f48ffa-s1100-c50.jpg\""
   ]
  },
  {
   "cell_type": "code",
   "execution_count": null,
   "id": "53eec6b4-bc9b-4ab8-8466-5c09dacb971c",
   "metadata": {},
   "outputs": [],
   "source": [
    "results = model.predict(img)"
   ]
  },
  {
   "cell_type": "code",
   "execution_count": null,
   "id": "bd0cc4d7-07b5-4b87-97eb-0aa7f17af08f",
   "metadata": {},
   "outputs": [],
   "source": [
    "result = results [0]"
   ]
  },
  {
   "cell_type": "code",
   "execution_count": null,
   "id": "4215778b-d133-4e8a-9f0a-13bd31d88723",
   "metadata": {},
   "outputs": [],
   "source": [
    "#Use this cell to see the detection results as a text\n",
    "box = result.boxes[0]\n",
    "for box in result.boxes:\n",
    "  class_id = result.names[box.cls[0].item()]\n",
    "  cords = box.xyxy[0].tolist()\n",
    "  cords = [round(x) for x in cords]\n",
    "  conf = round(box.conf[0].item(), 2)\n",
    "  print(\"Object type:\", class_id)\n",
    "  print(\"Coordinates:\", cords)\n",
    "  print(\"Probability:\", conf)\n",
    "  print(\"---\")"
   ]
  },
  {
   "cell_type": "markdown",
   "id": "4e6a149a-c850-4fa3-8802-b0d74e1e8121",
   "metadata": {},
   "source": [
    "**3. Show detections**"
   ]
  },
  {
   "cell_type": "code",
   "execution_count": null,
   "id": "be96920d-2896-48ac-a6d2-56a492f8ee81",
   "metadata": {
    "scrolled": true
   },
   "outputs": [],
   "source": [
    "#This cell shows the picture including the detections (Bounding boxes)\n",
    "from PIL import Image\n",
    "Image.fromarray(result.plot()[:,:,::-1])"
   ]
  },
  {
   "cell_type": "markdown",
   "id": "125a343f-ec8e-4f85-a448-c481654535f8",
   "metadata": {},
   "source": [
    "**5. Label your images**"
   ]
  },
  {
   "cell_type": "code",
   "execution_count": null,
   "id": "a3b94203-2054-4c3c-bc77-313f55b9ad6d",
   "metadata": {},
   "outputs": [],
   "source": [
    "#For image labeling, we strongly encourage you to use Roboflow, which is a free software.\n",
    "#You will find many instructions online. Try starting here: https://app.roboflow.com/login"
   ]
  },
  {
   "cell_type": "markdown",
   "id": "0334c843-52fb-4c03-807e-96b3757f4638",
   "metadata": {},
   "source": [
    "**6. Train your custom model**"
   ]
  },
  {
   "cell_type": "code",
   "execution_count": null,
   "id": "69b52a60-d35c-448c-93f1-9e9533d3c789",
   "metadata": {},
   "outputs": [],
   "source": [
    "model.train(data=\"path/to/your/.yaml-file\", epochs=1000)"
   ]
  }
 ],
 "metadata": {
  "kernelspec": {
   "display_name": "yolo",
   "language": "python",
   "name": "yolo"
  },
  "language_info": {
   "codemirror_mode": {
    "name": "ipython",
    "version": 3
   },
   "file_extension": ".py",
   "mimetype": "text/x-python",
   "name": "python",
   "nbconvert_exporter": "python",
   "pygments_lexer": "ipython3",
   "version": "3.11.7"
  }
 },
 "nbformat": 4,
 "nbformat_minor": 5
}
